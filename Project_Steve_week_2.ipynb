{
  "nbformat": 4,
  "nbformat_minor": 0,
  "metadata": {
    "colab": {
      "name": "Project Steve week 2.ipynb",
      "provenance": [],
      "collapsed_sections": [],
      "authorship_tag": "ABX9TyPOUfnjRyc9DOvIqt65yYcz",
      "include_colab_link": true
    },
    "kernelspec": {
      "name": "python3",
      "display_name": "Python 3"
    }
  },
  "cells": [
    {
      "cell_type": "markdown",
      "metadata": {
        "id": "view-in-github",
        "colab_type": "text"
      },
      "source": [
        "<a href=\"https://colab.research.google.com/github/vnflint/Data-Cleaning/blob/main/Project_Steve_week_2.ipynb\" target=\"_parent\"><img src=\"https://colab.research.google.com/assets/colab-badge.svg\" alt=\"Open In Colab\"/></a>"
      ]
    },
    {
      "cell_type": "code",
      "metadata": {
        "id": "CUKjH5IrX7xe"
      },
      "source": [
        "#Scania/Malaria Deeper ANN \r\n",
        "\r\n",
        "import numpy as np\r\n",
        "import pandas as pd\r\n",
        "import matplotlib.pyplot as plt\r\n",
        "from matplotlib.colors import ListedColormap\r\n",
        "from IPython.display import clear_output\r\n",
        "from time import sleep"
      ],
      "execution_count": null,
      "outputs": []
    },
    {
      "cell_type": "code",
      "metadata": {
        "id": "5K8ato0raP2C"
      },
      "source": [
        "cmap_bold = ListedColormap([\"#FF0000\",\"#0000FF\", \"#00FF00\"])\r\n",
        "cmap_light = ListedColormap([\"#FFBBBB\",\"#BBBBFF\", \"#BBFFBB\"])"
      ],
      "execution_count": null,
      "outputs": []
    },
    {
      "cell_type": "code",
      "metadata": {
        "id": "zWRrGnVfY38q"
      },
      "source": [
        "#Activation and helper functions\r\n",
        "\r\n",
        "def linear(H):\r\n",
        "  return H \r\n",
        "\r\n",
        "def ReLU(H):\r\n",
        "  return H*(H>0)\r\n",
        "\r\n",
        "def sigmoid(H):\r\n",
        "  return 1/(1+np.exp(-H))\r\n",
        "\r\n",
        "def softmax(H):\r\n",
        "  eH = np.exp(H)\r\n",
        "  return eH/eH.sum(axis = 1, keepdims = True)\r\n",
        "\r\n",
        "def cross_entropy(Y, P_hat):\r\n",
        "  return -(1/len(Y))*np.sum(Y*np.log(P_hat))\r\n",
        "\r\n",
        "def OLS(Y, Y_hat):\r\n",
        "  return (1/(2*len(Y)))*np.sum((Y - Y_hat)**2)\r\n",
        "\r\n",
        "def one_hot_encode(y):\r\n",
        "  N = len(y)\r\n",
        "  K = len(set(y))\r\n",
        "  Y = np.zeros((N,K))\r\n",
        "\r\n",
        "  for i in range(N):\r\n",
        "    Y[i,y[i]] = 1\r\n",
        "  \r\n",
        "  return Y \r\n",
        "\r\n",
        "def accuracy(y, y_hat):\r\n",
        "  return np.mean(y == y_hat)\r\n",
        "\r\n",
        "def R2(y, y_hat):\r\n",
        "  return 1-np.sum((y - y_hat)**2)/np.sum((y - y.mean())**2)\r\n",
        "\r\n",
        "def derivative(Z, a):\r\n",
        "  if a == linear:\r\n",
        "    return 1\r\n",
        "  elif a == sigmoid:\r\n",
        "    return Z*(1-Z)\r\n",
        "  elif a == np.tanh:\r\n",
        "    return 1-Z*Z\r\n",
        "  elif a == ReLU:\r\n",
        "    return (Z>0).astype(int)\r\n",
        "  else:\r\n",
        "    ValueError(\"Unknown Activation Function\")\r\n"
      ],
      "execution_count": null,
      "outputs": []
    },
    {
      "cell_type": "code",
      "metadata": {
        "id": "UCzYSX0gaWgf"
      },
      "source": [
        "class ANN():\r\n",
        "  \r\n",
        "  def __init__(self, architecture, activations = None, mode = 0):\r\n",
        "    self.mode = mode\r\n",
        "    self.architecture = architecture\r\n",
        "    self.activations = activations\r\n",
        "    self.L = len(architecture)+1    #total number of layers\r\n",
        "\r\n",
        "  def fit(self, X, y, eta = 1e-3, epochs = 1e3, show_curve = False):\r\n",
        "    epochs = int(epochs)\r\n",
        "\r\n",
        "    if self.mode:\r\n",
        "      Y = y \r\n",
        "    else:\r\n",
        "      Y = one_hot_encode(y)\r\n",
        "\r\n",
        "    N, D = X.shape\r\n",
        "    K = Y.shape[1]\r\n",
        "\r\n",
        "    #weights and bias initializations (random)\r\n",
        "    self.W = {l: np.random.randn(M[0], M[1]) for l, M in enumerate(zip(([D] + self.architecture), (self.architecture + [K])), 1)}\r\n",
        "    self.b = {l: np.random.randn(M) for l, M in enumerate(self.architecture + [K], 1)}\r\n",
        "\r\n",
        "    #activation function loading\r\n",
        "    if self.activations is None:\r\n",
        "      self.a = {l: ReLU for l in range(1, self.L)}\r\n",
        "    else:\r\n",
        "      self.a = {l: act for l, act in enumerate(self.activations, 1)}\r\n",
        "\r\n",
        "    #mode set    \r\n",
        "    if self.mode:\r\n",
        "      self.a[self.L] = linear\r\n",
        "    else:\r\n",
        "      self.a[self.L] = softmax\r\n",
        "\r\n",
        "\r\n",
        "    J = np.zeros(epochs)\r\n",
        "\r\n",
        "    #Gradient Descent\r\n",
        "    for epoch in range(epochs):\r\n",
        "      self.forward(X)\r\n",
        "      if self.mode:\r\n",
        "        J[epoch] = OLS(Y, self.Z[self.L])\r\n",
        "      else:\r\n",
        "        J[epoch] = cross_entropy(Y, self.Z[self.L])\r\n",
        "    \r\n",
        "      dH = (1/N)*(self.Z[self.L] - Y)\r\n",
        "\r\n",
        "      #Update Rules\r\n",
        "      for l in sorted(self.W.keys(), reverse = True):\r\n",
        "        dW = self.Z[l - 1].T@dH\r\n",
        "        db = dH.sum(axis = 0)\r\n",
        "        self.W[l] -= eta*dW\r\n",
        "        self.b[l] -= eta*db\r\n",
        "        if l > 1:\r\n",
        "          dZ = dH@self.W[l].T\r\n",
        "          dH = dZ*derivative(self.Z[l - 1], self.a[l - 1])\r\n",
        "\r\n",
        "    if show_curve:\r\n",
        "      plt.figure()\r\n",
        "      plt.plot(J)\r\n",
        "      plt.xlabel(\"epochs\")\r\n",
        "      plt.ylabel(\"$\\mathcal{J}$\")\r\n",
        "      plt.title(\"Training Curve\")    \r\n",
        "      plt.show()\r\n",
        "\r\n",
        "  def forward(self, X):\r\n",
        "    self.Z = {0:X}\r\n",
        "\r\n",
        "    for l in sorted(self.W.keys()):\r\n",
        "      self.Z[l] = self.a[l](self.Z[l - 1]@self.W[l] + self.b[l])\r\n",
        "\r\n",
        "  def predict(self, X):\r\n",
        "    self.forward(X)\r\n",
        "\r\n",
        "    if self.mode:\r\n",
        "      return self.Z[self.L]\r\n",
        "    else:\r\n",
        "      return self.Z[self.L].argmax(axis = 1)"
      ],
      "execution_count": null,
      "outputs": []
    },
    {
      "cell_type": "code",
      "metadata": {
        "id": "PeMFHDyKadh0",
        "colab": {
          "base_uri": "https://localhost:8080/",
          "height": 312
        },
        "outputId": "acb1cd7b-6384-446f-ef0b-ac346e4f6ded"
      },
      "source": [
        "#def main():\r\n",
        " # D = 2\r\n",
        " # K = 3\r\n",
        " # N = int(K*1e3)\r\n",
        "\r\n",
        "data = pd.read_csv(\"Normalized_Train_With_Mean_Imput.csv\", header = 0, usecols = range(1,12))\r\n",
        "X = data.to_numpy()\r\n",
        "y = X[:,-1]\r\n",
        "X = X[:,:-1]\r\n",
        "y = np.where(y==2, 0, y)\r\n",
        "y = y.astype(int)\r\n",
        "  #y = data['2'].to_numpy()\r\n",
        "  #X = data[['0','1']].to_numpy()\r\n",
        "  \r\n",
        "myANN = ANN([10, 10, 10], [sigmoid, sigmoid, sigmoid])\r\n",
        "myANN.fit(X, y, eta = 3e-2, epochs = 2e3, show_curve = True)\r\n",
        "y_hat = myANN.predict(X)\r\n",
        "\r\n",
        "#myANN = ANN([10, 12, 12, 10, 10], [sigmoid, sigmoid, sigmoid, sigmoid, sigmoid])\r\n",
        "#myANN.fit(X, y, eta = 3e-2, epochs = 2e4, show_curve = True)\r\n",
        "\r\n",
        "#myANN = ANN([10, 12, 12, 10, 10, 12, 12], [ReLU, sigmoid, sigmoid, sigmoid, sigmoid, sigmoid, sigmoid])\r\n",
        "#myANN.fit(X, y, eta = 3e-2, epochs = 2e4, show_curve = True)\r\n",
        "\r\n",
        "#myANN = ANN([10, 12, 12, 10, 10, 12, 12], [sigmoid, sigmoid, sigmoid, sigmoid, sigmoid, sigmoid, sigmoid])\r\n",
        "#myANN.fit(X, y, eta = 3e-2, epochs = 2e4, show_curve = True)\r\n",
        "\r\n",
        "#myANN = ANN([10, 12, 12, 10, 10, 12, 12], [sigmoid, sigmoid, sigmoid, sigmoid, sigmoid, sigmoid, sigmoid])\r\n",
        "#myANN.fit(X, y, eta = 3e-1, epochs = 2e4, show_curve = True)\r\n",
        "\r\n",
        "#myANN = ANN([10, 12, 12, 10, 10, 12, 12], [sigmoid, sigmoid, sigmoid, sigmoid, sigmoid, sigmoid, sigmoid])\r\n",
        "#myANN.fit(X, y, eta = 3e-3, epochs = 2e4, show_curve = True)\r\n",
        "\r\n",
        "#myANN = ANN([10, 12, 12, 10, 10, 12, 12, 12, 12], [sigmoid, sigmoid, sigmoid, sigmoid, sigmoid, sigmoid, sigmoid, sigmoid, sigmoid])\r\n",
        "#myANN.fit(X, y, eta = 3e-2, epochs = 2e4, show_curve = True)\r\n",
        "\r\n",
        "#myANN = ANN([10, 12, 12, 10, 10, 12, 12, 12, 12], [sigmoid, sigmoid, sigmoid, sigmoid, sigmoid, sigmoid, sigmoid, sigmoid, sigmoid])\r\n",
        "#myANN.fit(X, y, eta = 3e-2, epochs = 2e5, show_curve = True)\r\n",
        "\r\n",
        "\r\n",
        "\r\n",
        "print(f\"Training Accuracy: {accuracy(y, y_hat):0.4f}\")"
      ],
      "execution_count": null,
      "outputs": [
        {
          "output_type": "display_data",
          "data": {
            "image/png": "[encoded data removed]",
            "text/plain": [
              "<Figure size 432x288 with 1 Axes>"
            ]
          },
          "metadata": {
            "tags": [],
            "needs_background": "light"
          }
        },
        {
          "output_type": "stream",
          "text": [
            "Training Accuracy: 1.0000\n"
          ],
          "name": "stdout"
        }
      ]
    },
    {
      "cell_type": "code",
      "metadata": {
        "id": "zU9W0ikTaiRi"
      },
      "source": [
        "#if __name__ == \"__main__\":\r\n",
        "#  main()\r\n",
        "  "
      ],
      "execution_count": null,
      "outputs": []
    },
    {
      "cell_type": "code",
      "metadata": {
        "id": "LEaHFq2LQ_Sn"
      },
      "source": [
        "df_test = pd.read_csv(\"Normalized_Test_With_Mean_Imput.csv\", sep = \",\", header = 0, usecols = range(1,12))\r\n",
        "df_test.columns = [\"class\", \"Temperature\", \"HeartRate\", \"NaiveTCellCount\", \"TCellCount\", \"Hemoglobin\", \"Platelets\", \"RedBloodCellsCount\", \"ViralLoad\", \"ChangeInTCellCount\", \"ChangeInRedBloodCellCount\"]\r\n",
        "df_test = df_test.to_numpy()\r\n",
        "X_test = df_test[:, 1:]\r\n",
        "y_test = df_test[:, 0]\r\n",
        "y_hat_test = abs(myANN.predict(X_test)) "
      ],
      "execution_count": null,
      "outputs": []
    },
    {
      "cell_type": "code",
      "metadata": {
        "colab": {
          "base_uri": "https://localhost:8080/"
        },
        "id": "vEaHNCGnSOtj",
        "outputId": "6820abb5-3111-4cd9-d416-1aafc7b076be"
      },
      "source": [
        "y_hat_test = np.around(y_hat_test)\r\n",
        "\r\n",
        "print(f\"Testing Accuracy: {accuracy(y, y_hat_test):0.4f}\")\r\n"
      ],
      "execution_count": null,
      "outputs": [
        {
          "output_type": "stream",
          "text": [
            "Testing Accuracy: 0.0000\n"
          ],
          "name": "stdout"
        },
        {
          "output_type": "stream",
          "text": [
            "/usr/local/lib/python3.6/dist-packages/ipykernel_launcher.py:33: DeprecationWarning: elementwise comparison failed; this will raise an error in the future.\n"
          ],
          "name": "stderr"
        }
      ]
    }
  ]
}